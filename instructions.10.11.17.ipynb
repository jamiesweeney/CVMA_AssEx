{
 "cells": [
  {
   "cell_type": "markdown",
   "metadata": {},
   "source": [
    "# Assessed Exercise: CVMA4\n",
    "<font color=\"red\"> This exercise work **must** be your own work. A declaration of originality is required. </font>\n",
    "\n",
    "**There will be a compulsory lab question on this exercise in the exam. Make sure you complete this exercise, and understand the material thoroughly.**\n",
    "\n",
    "Do *not* copy and paste code from elsewhere into the exercise, **except** for code from the CVMA4 lecture or lab notes.\n",
    "\n",
    "**READ THESE INSTRUCTIONS CAREFULLY BEFORE YOU START WORK**\n",
    "\n",
    "-----\n",
    "\n",
    "## Submission, deadline, feedback\n",
    "**Submission** Your submission will be the notebook **exercise.ipynb** with all of the code and your written work included. You should not use external files. Make sure you have run all the cells before you submit.\n",
    "\n",
    "**Deadline** You must submit this on Moodle by **5pm, 4rth December 2017**\n",
    "\n",
    "**Feeback** You will receive feedback on your submission in the New Year. There is *no mark* assigned, but you *will* get an annotated version of your notebook with individual formative feedback on your work."
   ]
  },
  {
   "cell_type": "markdown",
   "metadata": {},
   "source": [
    "-----\n",
    "## Introduction\n",
    "\n",
    "The objective of this exercise is to investigate feature extraction, feature bag-of-words, and the impact of feature rotation invariance mechanisms on feature natching performance. The exercise will involve constructing a HOG (Histogram of Gradients) feature vector, described in the lecture 5 notebook and the k-means clustering algorithm described in lecture 6 applied to vector quantisation described in lecture 10. \n",
    "\n",
    "We shall examine extracting HOG features from an image and also a mechanism to normalise the HOG feature to give it a degree of rotation invariance and then compare matching the HOG feaures of an image to a copy itself which is rotated. This experiment will compare matching using features with and without in-built rotation invariance.\n",
    "\n",
    "The next part of the exercise will extract HOG features from an image and then apply vector quantisation to these features, to form a codebook of feature cluster centeres.K-means clustering applied to the extracted HOG features will provide K codebook patches, i.e. K codes. We can then encode the image by matching the HOG vectors extracted from the image to the closest codebook entry and forming a histogram of the number of enrties that match each code. \n",
    "\n",
    "-----\n",
    "### Specification\n",
    "\n",
    "1. Construct a procedure that will extract a single HOG histogram from an image patch of size [n,m] located at (y,x) with histogrm of length L entries, from an input image. Normalise each HOG vector by dividing each of it's elements by its own modulus to produce unit vectors.\n",
    "\n",
    "2. Constuct a procedure that uses the  routine in 1. to extract a list of all the HOG histrograms from an input image, by breaking the image into non-overlapping blocks of size [n,m].\n",
    "\n",
    "3. Extract the list of HOGs for all non-overlapping 9x9pixel blocks from an image in /res of your choice and extract a single HOG in the image centre. It makes sense here to use of the images with  quite rich texture.\n",
    "\n",
    "4. Match the single extracted HOG vector in step 2., using the vector dot product  with each of the other HOG patches from the array you extracted in step 3. and annotate the input image with the location of the top 5 matching locations.  Present this result and comment on your interpretation of it.\n",
    "\n",
    "5. Repeat step 4. but in this case rotate the image in steps of 1 degree, applying the process 5 times clockwise and 5 times anti-clockwise times. Experiment with using differnet sizes of HOG block and present this result and comment on your interpretation of it.\n",
    "\n",
    "6. Modify your single HOG block extraction mechanism, but this time adjust each extracted HOG vector such that the largest value of HOG bin entry is \"rotated\" using a barrel-shift operation to the leftmost location of the histogram, as described in lecture 12. (Think about ambiguities inherent in this this operation and suggest how you might resolve these.) Following rotation normalisation, scale normalise each HOG vector by dividing each of it's elements by its own modulus to produce unit vectors.\n",
    "\n",
    "7. Repeat the above steps 4. & 5. using the rotation normalised HOG feature vector extractor. Again experiment with using different sizes of HOG block and present and comment on the results you obtain.\n",
    "   \n",
    "8. Construct a routine which takes an array of HOG descriptors and then applies vector quantisation to construct a codebook comprising K HOG vector means.\n",
    "\n",
    "9. For K = 128, construct a routine which will take the HOG codebook and match and array of HOG vectors to the K code HOG codebook. To test this routine, extract the HOG vectors from an image, match them to the codebook and then replace the pixels of the original image with the value of the codebook index that each extracted HOG block matches to. You should produce an image where each of the pixels of each HOG block is now replaced with the index value of the codebook it matched to. This mapping will reveal which parts of the input image matched to which codebook. It may require the use of a false colour map to be abe to visualise this image.\n",
    "\n",
    "10. Form a histogram of the number of input HOG vectors that best match each codebook code in 9. This histogram summarises how many of each type of HOG codebook code exists in the array of supplied HOG vecotrs. Apply this process to at least two images from the set in /res and compare the HOG codebook histograms produced when the image HOG codebook is applied to it's own HOG descriptors and when te HOG codebook is applied to a HOG codebook constructed from a different image.\n",
    "\n",
    "11. Form HOG codebook histograms for at least two images in /res using both the basic HOG feature and the rotation normalised HOG feature and compare what happens to the HOG codebook histogram whne the input image is rotated in steps of 1 degreee from -5 to + 5 degrees.\n",
    "\n",
    "12. Produce a plot that quantifies the process in 11, by taking the normalised dot product between the HOG histogram for the unrotated image and each of it's rotated versions, for both normalised and un-normalised HOG descriptrs.\n",
    "   \n",
    "        \n",
    "\n",
    "\n",
    "### Evaluation\n",
    "You have nine test images in `res/`. Choose at least two contrasting images on whichto make comparisons required above.\n",
    " \n",
    "*Use loops to automate the experimentation process.*\n",
    "\n",
    "Discuss your results in prose. "
   ]
  },
  {
   "cell_type": "markdown",
   "metadata": {},
   "source": [
    "\n",
    "------\n",
    "## Report\n",
    "You will need to document your approach clearly in prose, with appropriate use of figures and diagrams to show what you have done. See below for the report outline and details on how to fill it out. Explain your steps clearly and precisely, but do not write pages of text. **Keep it short and to the point.**  Make *sure* you have run all cells before submission -- I need to be able to see the output in the notebook.\n",
    "\n",
    "Be brief, but explain yourself clearly. A paragraph or two of text for each section is sufficient, but make good use of images and graphs, especially in the results section. \n",
    "\n",
    "**You should combine your actual code with the text of the report in a literate programming style -- e.g. the approach section should contain the processing code, with interspersed Markdown cells documenting what you did. In the results sections, use Markdown cells to explain what you are showing, and use code cells to actually plot the result.**\n",
    "\n",
    "----"
   ]
  },
  {
   "cell_type": "markdown",
   "metadata": {},
   "source": [
    "\n",
    "\n",
    "#### Colour formats\n",
    "All images should be converted to greyscale before attempting HOG feature extraction.\n",
    "\n",
    "\n",
    "### Coding hints\n",
    "* \n",
    "* Use `skimage` or `scipy.ndimage` to perform image manipulations.\n",
    "* For the vector quantisation, use the methods in `scipy.cluster.vq`. \n",
    "* Background: https://docs.scipy.org/doc/scipy/reference/cluster.vq.html\n",
    "* Usage: https://docs.scipy.org/doc/scipy/reference/generated/scipy.cluster.vq.vq.html\n",
    "\n",
    "* Dont forget to copy the python utility funcions supplied with the lectures as required.\n",
    "\n"
   ]
  },
  {
   "cell_type": "code",
   "execution_count": 1,
   "metadata": {
    "collapsed": true
   },
   "outputs": [],
   "source": []
  },
  {
   "cell_type": "code",
   "execution_count": null,
   "metadata": {
    "collapsed": true
   },
   "outputs": [],
   "source": []
  }
 ],
 "metadata": {
  "kernelspec": {
   "display_name": "Python 3",
   "language": "python",
   "name": "python3"
  },
  "language_info": {
   "codemirror_mode": {
    "name": "ipython",
    "version": 3
   },
   "file_extension": ".py",
   "mimetype": "text/x-python",
   "name": "python",
   "nbconvert_exporter": "python",
   "pygments_lexer": "ipython3",
   "version": "3.6.3"
  }
 },
 "nbformat": 4,
 "nbformat_minor": 1
}
